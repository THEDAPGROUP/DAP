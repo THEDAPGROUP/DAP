{
 "cells": [
  {
   "cell_type": "code",
   "execution_count": 3,
   "id": "01918409",
   "metadata": {},
   "outputs": [
    {
     "ename": "ModuleNotFoundError",
     "evalue": "No module named 'bs4'",
     "output_type": "error",
     "traceback": [
      "\u001b[0;31m---------------------------------------------------------------------------\u001b[0m",
      "\u001b[0;31mModuleNotFoundError\u001b[0m                       Traceback (most recent call last)",
      "\u001b[0;32m/var/folders/yk/8qz14d9s7dj9ntzdwz80vvl00000gn/T/ipykernel_4330/2116811886.py\u001b[0m in \u001b[0;36m<module>\u001b[0;34m\u001b[0m\n\u001b[1;32m      1\u001b[0m \u001b[0;32mimport\u001b[0m \u001b[0mdatetime\u001b[0m\u001b[0;34m\u001b[0m\u001b[0;34m\u001b[0m\u001b[0m\n\u001b[1;32m      2\u001b[0m \u001b[0;32mimport\u001b[0m \u001b[0mrequests\u001b[0m\u001b[0;34m\u001b[0m\u001b[0;34m\u001b[0m\u001b[0m\n\u001b[0;32m----> 3\u001b[0;31m \u001b[0;32mfrom\u001b[0m \u001b[0mbs4\u001b[0m \u001b[0;32mimport\u001b[0m \u001b[0mBeautifulSoup\u001b[0m\u001b[0;34m\u001b[0m\u001b[0;34m\u001b[0m\u001b[0m\n\u001b[0m\u001b[1;32m      4\u001b[0m \u001b[0;34m\u001b[0m\u001b[0m\n\u001b[1;32m      5\u001b[0m \u001b[0mCARDANO_SYM\u001b[0m \u001b[0;34m=\u001b[0m \u001b[0;34m'ADA-USD'\u001b[0m\u001b[0;34m\u001b[0m\u001b[0;34m\u001b[0m\u001b[0m\n",
      "\u001b[0;31mModuleNotFoundError\u001b[0m: No module named 'bs4'"
     ]
    }
   ],
   "source": [
    "import datetime\n",
    "import requests\n",
    "from bs4 import BeautifulSoup\n",
    "\n",
    "CARDANO_SYM = 'ADA-USD'\n",
    "\n",
    "def getData(symbol):\n",
    "    headers = {'User-Agent': 'Mozilla/5.0 (Macintosh; Intel Mac OS X 10_15_7) AppleWebKit/537.36 (KHTML, like Gecko) Chrome/96.0.4664.93 Safari/537.36'}\n",
    "    ADA_URL = f'https://finance.yahoo.com/quote/{symbol}'\n",
    "\n",
    "    # passing user-agent in the headers \n",
    "    ada_resp = requests.get(ADA_URL, headers=headers)\n",
    "\n",
    "    # parsing data as html\n",
    "    bsoup = BeautifulSoup(ada_resp.text, 'html.parser')\n",
    "\n",
    "    print(bsoup.title.text)\n",
    "    stock = {\n",
    "        'symbol': symbol,\n",
    "        # capturing the price from fin-streamer element\n",
    "        'price': bsoup.find('div', {'class': 'D(ib) Mend(20px)'}).find_all('fin-streamer')[0].text,\n",
    "        # capturing the change from fin-streamer element\n",
    "        'change': bsoup.find('div', {'class': 'D(ib) Mend(20px)'}).find_all('fin-streamer')[1].text,\n",
    "        \n",
    "        'prev_close': bsoup.find('td', {'class': 'Ta(end) Fw(600) Lh(14px)', 'data-test': 'PREV_CLOSE-value'}).text,\n",
    "        \n",
    "        'open': bsoup.find('td', {'class': 'Ta(end) Fw(600) Lh(14px)', 'data-test': 'OPEN-value'}).text,\n",
    "        \n",
    "        'day_range': bsoup.find('td', {'class': 'Ta(end) Fw(600) Lh(14px)', 'data-test': 'DAYS_RANGE-value'}).text,\n",
    "        \n",
    "        'volume': bsoup.find('td', {'class': 'Ta(end) Fw(600) Lh(14px)', 'data-test': 'TD_VOLUME-value'}).text,\n",
    "        \n",
    "        'market_cap': bsoup.find('td', {'class': 'Ta(end) Fw(600) Lh(14px)', 'data-test': 'MARKET_CAP-value'}).text,\n",
    "        \n",
    "        'date': datetime.datetime.utcnow()\n",
    "    }\n",
    "    print(stock)\n",
    "    return stock\n"
   ]
  },
  {
   "cell_type": "code",
   "execution_count": 48,
   "id": "edfbae4b",
   "metadata": {},
   "outputs": [],
   "source": [
    "from pymongo import MongoClient\n",
    "client = MongoClient(\"mongodb://%s:%s@127.0.0.1\" % (\"dap\", \"dap\"))"
   ]
  },
  {
   "cell_type": "code",
   "execution_count": 49,
   "id": "4eef71b8",
   "metadata": {},
   "outputs": [],
   "source": [
    "db = client['ca_database']\n",
    "stocks = db.stocks"
   ]
  },
  {
   "cell_type": "code",
   "execution_count": 1,
   "id": "b86a1543",
   "metadata": {},
   "outputs": [
    {
     "ename": "NameError",
     "evalue": "name 'getData' is not defined",
     "output_type": "error",
     "traceback": [
      "\u001b[0;31m---------------------------------------------------------------------------\u001b[0m",
      "\u001b[0;31mNameError\u001b[0m                                 Traceback (most recent call last)",
      "\u001b[0;32m/var/folders/yk/8qz14d9s7dj9ntzdwz80vvl00000gn/T/ipykernel_4330/3390820160.py\u001b[0m in \u001b[0;36m<module>\u001b[0;34m\u001b[0m\n\u001b[1;32m      1\u001b[0m \u001b[0;32mwhile\u001b[0m \u001b[0;36m1\u001b[0m\u001b[0;34m:\u001b[0m\u001b[0;34m\u001b[0m\u001b[0;34m\u001b[0m\u001b[0m\n\u001b[1;32m      2\u001b[0m     \u001b[0mstock_inserted\u001b[0m \u001b[0;34m=\u001b[0m \u001b[0;34m{\u001b[0m\u001b[0;34m}\u001b[0m\u001b[0;34m\u001b[0m\u001b[0;34m\u001b[0m\u001b[0m\n\u001b[0;32m----> 3\u001b[0;31m     \u001b[0mstock\u001b[0m \u001b[0;34m=\u001b[0m \u001b[0mgetData\u001b[0m\u001b[0;34m(\u001b[0m\u001b[0mCARDANO_SYM\u001b[0m\u001b[0;34m)\u001b[0m\u001b[0;34m\u001b[0m\u001b[0;34m\u001b[0m\u001b[0m\n\u001b[0m\u001b[1;32m      4\u001b[0m     \u001b[0;32mif\u001b[0m\u001b[0;34m(\u001b[0m\u001b[0;32mnot\u001b[0m \u001b[0mstock_inserted\u001b[0m \u001b[0;32mor\u001b[0m \u001b[0;34m(\u001b[0m\u001b[0mstock\u001b[0m\u001b[0;34m.\u001b[0m\u001b[0mprice\u001b[0m \u001b[0;34m!=\u001b[0m \u001b[0mstock_inserted\u001b[0m\u001b[0;34m.\u001b[0m\u001b[0mprice\u001b[0m\u001b[0;34m)\u001b[0m\u001b[0;34m)\u001b[0m\u001b[0;34m:\u001b[0m\u001b[0;34m\u001b[0m\u001b[0;34m\u001b[0m\u001b[0m\n\u001b[1;32m      5\u001b[0m         \u001b[0mstock_inserted\u001b[0m \u001b[0;34m=\u001b[0m \u001b[0mstocks\u001b[0m\u001b[0;34m.\u001b[0m\u001b[0minsert_one\u001b[0m\u001b[0;34m(\u001b[0m\u001b[0mstock\u001b[0m\u001b[0;34m)\u001b[0m\u001b[0;34m\u001b[0m\u001b[0;34m\u001b[0m\u001b[0m\n",
      "\u001b[0;31mNameError\u001b[0m: name 'getData' is not defined"
     ]
    }
   ],
   "source": [
    "while 1:\n",
    "    stock_inserted = {}\n",
    "    stock = getData(CARDANO_SYM)\n",
    "    if(not stock_inserted or (stock.price != stock_inserted.price)):\n",
    "        stock_inserted = stocks.insert_one(stock)\n",
    "        print('stock inserted with id', stock_inserted.inserted_id)\n",
    "    try:\n",
    "        time.sleep(120)\n",
    "    except:\n",
    "        continue"
   ]
  },
  {
   "cell_type": "code",
   "execution_count": null,
   "id": "b0a26762",
   "metadata": {},
   "outputs": [],
   "source": []
  }
 ],
 "metadata": {
  "kernelspec": {
   "display_name": "Python 3 (ipykernel)",
   "language": "python",
   "name": "python3"
  },
  "language_info": {
   "codemirror_mode": {
    "name": "ipython",
    "version": 3
   },
   "file_extension": ".py",
   "mimetype": "text/x-python",
   "name": "python",
   "nbconvert_exporter": "python",
   "pygments_lexer": "ipython3",
   "version": "3.8.2"
  }
 },
 "nbformat": 4,
 "nbformat_minor": 5
}
