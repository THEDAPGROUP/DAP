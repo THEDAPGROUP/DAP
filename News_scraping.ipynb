{
 "cells": [
  {
   "cell_type": "code",
   "execution_count": 16,
   "id": "4af911a9",
   "metadata": {},
   "outputs": [],
   "source": [
    "import requests \n",
    "from bs4 import BeautifulSoup \n",
    "import json\n",
    "import datetime\n",
    "import pymongo\n",
    "\n",
    "client = pymongo.MongoClient()\n",
    "mydb = client[\"ethereum_news\"]\n",
    "mycol = mydb[\"News\"]\n",
    "\n",
    "def scrapenews():\n",
    "    url = \"https://www.newsnow.co.uk/h/Business+&+Finance/Cryptocurrencies/Ethereum+%28ETH%29?type=ln\"\n",
    "    \n",
    "    r = requests.get(url)\n",
    "    soup = BeautifulSoup(r.text,'html.parser')\n",
    "    #print(soup.prettify())\n",
    "    #all_spans = soup.findAll('div',{'class':'mb-25 d-none d-md-block'})\n",
    "    all_spans = soup.findAll('a',{'class':'hll'}) \n",
    "    time_news = soup.findAll('span',{'class':'time'})\n",
    "    for h in all_spans:\n",
    "        for t in time_news:\n",
    "            mycol.insert_one({\"datetime\":t.get_text(),\"news\":h.text.strip()})\n",
    "\n",
    "\n",
    "def main():\n",
    "    scrapenews() \n",
    "main()"
   ]
  },
  {
   "cell_type": "code",
   "execution_count": 2,
   "id": "2ead6736",
   "metadata": {},
   "outputs": [],
   "source": [
    "# Sentiment analysis \n",
    "\n",
    "import pymongo\n",
    "client = pymongo.MongoClient(\"mongodb://localhost:27017/\")\n",
    "\n",
    "# Database Name\n",
    "database = client[\"ethereum_news\"]\n",
    " \n",
    "# Collection Name\n",
    "column_name = database[\"News\"]"
   ]
  },
  {
   "cell_type": "code",
   "execution_count": 7,
   "id": "bbe4843b",
   "metadata": {},
   "outputs": [
    {
     "name": "stdout",
     "output_type": "stream",
     "text": [
      "                          _id datetime  \\\n",
      "0    61c31d31b36c6ab511eb24ba    12:33   \n",
      "1    61c31d31b36c6ab511eb24bb    12:33   \n",
      "2    61c31d31b36c6ab511eb24bc    12:33   \n",
      "3    61c31d31b36c6ab511eb24bd    12:33   \n",
      "4    61c31d31b36c6ab511eb24be    12:33   \n",
      "..                        ...      ...   \n",
      "162  61c31d31b36c6ab511eb255c    12:33   \n",
      "163  61c31d31b36c6ab511eb255d    12:33   \n",
      "164  61c31d31b36c6ab511eb255e    12:33   \n",
      "165  61c31d31b36c6ab511eb255f    12:33   \n",
      "166  61c31d31b36c6ab511eb2560    12:33   \n",
      "\n",
      "                                                  news  \n",
      "0    Solana, Ethereum Classic, Decentraland Price A...  \n",
      "1    Tokens.com Announces Additional Investment in ...  \n",
      "2    Ethereum Reaches $5 Billion Burned Coin Mark S...  \n",
      "3    Missed out on hot crypto stocks in 2021? It pa...  \n",
      "4    StarkWare Unveils Ethereum Layer 3 ‘Hyper-Scal...  \n",
      "..                                                 ...  \n",
      "162  Self-isolation has been reduced to seven days ...  \n",
      "163  Children across Afghanistan are increasingly v...  \n",
      "164  The UK's advertising watchdog has ruled agains...  \n",
      "165  Manchester City footballer Benjamin Mendy has ...  \n",
      "166  A perfectly preserved dinosaur embryo has been...  \n",
      "\n",
      "[167 rows x 3 columns]\n"
     ]
    }
   ],
   "source": [
    "data = column_name.find()\n",
    "\n",
    "import pandas as pd\n",
    "\n",
    "list_data = list(data)\n",
    "#print(list_data)\n",
    "df_news = pd.DataFrame(list_data)\n",
    "print(df_news)"
   ]
  },
  {
   "cell_type": "code",
   "execution_count": 8,
   "id": "1fe69be7",
   "metadata": {},
   "outputs": [],
   "source": [
    "import numpy as np\n",
    "from textblob import TextBlob\n",
    "import matplotlib.pyplot as plt\n"
   ]
  },
  {
   "cell_type": "code",
   "execution_count": 12,
   "id": "f885a4d7",
   "metadata": {},
   "outputs": [
    {
     "data": {
      "text/html": [
       "<div>\n",
       "<style scoped>\n",
       "    .dataframe tbody tr th:only-of-type {\n",
       "        vertical-align: middle;\n",
       "    }\n",
       "\n",
       "    .dataframe tbody tr th {\n",
       "        vertical-align: top;\n",
       "    }\n",
       "\n",
       "    .dataframe thead th {\n",
       "        text-align: right;\n",
       "    }\n",
       "</style>\n",
       "<table border=\"1\" class=\"dataframe\">\n",
       "  <thead>\n",
       "    <tr style=\"text-align: right;\">\n",
       "      <th></th>\n",
       "      <th>_id</th>\n",
       "      <th>datetime</th>\n",
       "      <th>news</th>\n",
       "      <th>Polarity</th>\n",
       "    </tr>\n",
       "  </thead>\n",
       "  <tbody>\n",
       "    <tr>\n",
       "      <th>0</th>\n",
       "      <td>61c31d31b36c6ab511eb24ba</td>\n",
       "      <td>12:33</td>\n",
       "      <td>Solana, Ethereum Classic, Decentraland Price A...</td>\n",
       "      <td>0.166667</td>\n",
       "    </tr>\n",
       "    <tr>\n",
       "      <th>1</th>\n",
       "      <td>61c31d31b36c6ab511eb24bb</td>\n",
       "      <td>12:33</td>\n",
       "      <td>Tokens.com Announces Additional Investment in ...</td>\n",
       "      <td>0.000000</td>\n",
       "    </tr>\n",
       "    <tr>\n",
       "      <th>2</th>\n",
       "      <td>61c31d31b36c6ab511eb24bc</td>\n",
       "      <td>12:33</td>\n",
       "      <td>Ethereum Reaches $5 Billion Burned Coin Mark S...</td>\n",
       "      <td>0.000000</td>\n",
       "    </tr>\n",
       "    <tr>\n",
       "      <th>3</th>\n",
       "      <td>61c31d31b36c6ab511eb24bd</td>\n",
       "      <td>12:33</td>\n",
       "      <td>Missed out on hot crypto stocks in 2021? It pa...</td>\n",
       "      <td>0.250000</td>\n",
       "    </tr>\n",
       "    <tr>\n",
       "      <th>4</th>\n",
       "      <td>61c31d31b36c6ab511eb24be</td>\n",
       "      <td>12:33</td>\n",
       "      <td>StarkWare Unveils Ethereum Layer 3 ‘Hyper-Scal...</td>\n",
       "      <td>0.000000</td>\n",
       "    </tr>\n",
       "  </tbody>\n",
       "</table>\n",
       "</div>"
      ],
      "text/plain": [
       "                        _id datetime  \\\n",
       "0  61c31d31b36c6ab511eb24ba    12:33   \n",
       "1  61c31d31b36c6ab511eb24bb    12:33   \n",
       "2  61c31d31b36c6ab511eb24bc    12:33   \n",
       "3  61c31d31b36c6ab511eb24bd    12:33   \n",
       "4  61c31d31b36c6ab511eb24be    12:33   \n",
       "\n",
       "                                                news  Polarity  \n",
       "0  Solana, Ethereum Classic, Decentraland Price A...  0.166667  \n",
       "1  Tokens.com Announces Additional Investment in ...  0.000000  \n",
       "2  Ethereum Reaches $5 Billion Burned Coin Mark S...  0.000000  \n",
       "3  Missed out on hot crypto stocks in 2021? It pa...  0.250000  \n",
       "4  StarkWare Unveils Ethereum Layer 3 ‘Hyper-Scal...  0.000000  "
      ]
     },
     "execution_count": 12,
     "metadata": {},
     "output_type": "execute_result"
    }
   ],
   "source": [
    "# Function for polarity\n",
    "def get_polarity_news(text):\n",
    "    return TextBlob(text).sentiment.polarity\n",
    "\n",
    "df_news['Polarity'] = df_news['news'].apply(get_polarity_news)\n",
    "\n",
    "df_news.head(5)"
   ]
  },
  {
   "cell_type": "code",
   "execution_count": 13,
   "id": "13a72d8f",
   "metadata": {},
   "outputs": [
    {
     "data": {
      "text/html": [
       "<div>\n",
       "<style scoped>\n",
       "    .dataframe tbody tr th:only-of-type {\n",
       "        vertical-align: middle;\n",
       "    }\n",
       "\n",
       "    .dataframe tbody tr th {\n",
       "        vertical-align: top;\n",
       "    }\n",
       "\n",
       "    .dataframe thead th {\n",
       "        text-align: right;\n",
       "    }\n",
       "</style>\n",
       "<table border=\"1\" class=\"dataframe\">\n",
       "  <thead>\n",
       "    <tr style=\"text-align: right;\">\n",
       "      <th></th>\n",
       "      <th>_id</th>\n",
       "      <th>datetime</th>\n",
       "      <th>news</th>\n",
       "      <th>Polarity</th>\n",
       "      <th>Sentiment_score</th>\n",
       "    </tr>\n",
       "  </thead>\n",
       "  <tbody>\n",
       "    <tr>\n",
       "      <th>0</th>\n",
       "      <td>61c31d31b36c6ab511eb24ba</td>\n",
       "      <td>12:33</td>\n",
       "      <td>Solana, Ethereum Classic, Decentraland Price A...</td>\n",
       "      <td>0.166667</td>\n",
       "      <td>Neutral</td>\n",
       "    </tr>\n",
       "    <tr>\n",
       "      <th>1</th>\n",
       "      <td>61c31d31b36c6ab511eb24bb</td>\n",
       "      <td>12:33</td>\n",
       "      <td>Tokens.com Announces Additional Investment in ...</td>\n",
       "      <td>0.000000</td>\n",
       "      <td>Positive</td>\n",
       "    </tr>\n",
       "    <tr>\n",
       "      <th>2</th>\n",
       "      <td>61c31d31b36c6ab511eb24bc</td>\n",
       "      <td>12:33</td>\n",
       "      <td>Ethereum Reaches $5 Billion Burned Coin Mark S...</td>\n",
       "      <td>0.000000</td>\n",
       "      <td>Positive</td>\n",
       "    </tr>\n",
       "    <tr>\n",
       "      <th>3</th>\n",
       "      <td>61c31d31b36c6ab511eb24bd</td>\n",
       "      <td>12:33</td>\n",
       "      <td>Missed out on hot crypto stocks in 2021? It pa...</td>\n",
       "      <td>0.250000</td>\n",
       "      <td>Neutral</td>\n",
       "    </tr>\n",
       "    <tr>\n",
       "      <th>4</th>\n",
       "      <td>61c31d31b36c6ab511eb24be</td>\n",
       "      <td>12:33</td>\n",
       "      <td>StarkWare Unveils Ethereum Layer 3 ‘Hyper-Scal...</td>\n",
       "      <td>0.000000</td>\n",
       "      <td>Positive</td>\n",
       "    </tr>\n",
       "  </tbody>\n",
       "</table>\n",
       "</div>"
      ],
      "text/plain": [
       "                        _id datetime  \\\n",
       "0  61c31d31b36c6ab511eb24ba    12:33   \n",
       "1  61c31d31b36c6ab511eb24bb    12:33   \n",
       "2  61c31d31b36c6ab511eb24bc    12:33   \n",
       "3  61c31d31b36c6ab511eb24bd    12:33   \n",
       "4  61c31d31b36c6ab511eb24be    12:33   \n",
       "\n",
       "                                                news  Polarity Sentiment_score  \n",
       "0  Solana, Ethereum Classic, Decentraland Price A...  0.166667         Neutral  \n",
       "1  Tokens.com Announces Additional Investment in ...  0.000000        Positive  \n",
       "2  Ethereum Reaches $5 Billion Burned Coin Mark S...  0.000000        Positive  \n",
       "3  Missed out on hot crypto stocks in 2021? It pa...  0.250000         Neutral  \n",
       "4  StarkWare Unveils Ethereum Layer 3 ‘Hyper-Scal...  0.000000        Positive  "
      ]
     },
     "execution_count": 13,
     "metadata": {},
     "output_type": "execute_result"
    }
   ],
   "source": [
    "def sentiment_score(score):\n",
    "    if score < 0:\n",
    "        return 'Negative'\n",
    "    if score > 0:\n",
    "        return 'Neutral'\n",
    "    else:\n",
    "        return 'Positive'\n",
    "    \n",
    "df_news['Sentiment_score'] = df_news['Polarity'].apply(sentiment_score)\n",
    "\n",
    "df_news.head(5)"
   ]
  },
  {
   "cell_type": "code",
   "execution_count": 14,
   "id": "b27f5c65",
   "metadata": {},
   "outputs": [
    {
     "data": {
      "image/png": "[encoded data removed]",
      "text/plain": [
       "<Figure size 432x288 with 1 Axes>"
      ]
     },
     "metadata": {
      "needs_background": "light"
     },
     "output_type": "display_data"
    }
   ],
   "source": [
    "df_news['Sentiment_score'].value_counts().plot(kind='bar')\n",
    "plt.show()"
   ]
  },
  {
   "cell_type": "code",
   "execution_count": null,
   "id": "61b30b95",
   "metadata": {},
   "outputs": [],
   "source": []
  }
 ],
 "metadata": {
  "kernelspec": {
   "display_name": "Python 3",
   "language": "python",
   "name": "python3"
  },
  "language_info": {
   "codemirror_mode": {
    "name": "ipython",
    "version": 3
   },
   "file_extension": ".py",
   "mimetype": "text/x-python",
   "name": "python",
   "nbconvert_exporter": "python",
   "pygments_lexer": "ipython3",
   "version": "3.8.8"
  }
 },
 "nbformat": 4,
 "nbformat_minor": 5
}
